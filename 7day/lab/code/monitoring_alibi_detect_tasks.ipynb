{
  "cells": [
    {
      "cell_type": "markdown",
      "metadata": {
        "id": "r8E08Stv5q6a"
      },
      "source": [
        "# Monitoring with alibi_detect"
      ]
    },
    {
      "cell_type": "markdown",
      "metadata": {},
      "source": [
        "If needed install:"
      ]
    },
    {
      "cell_type": "code",
      "execution_count": null,
      "metadata": {},
      "outputs": [],
      "source": [
        "!pip install matplotlib~=3.9.2 seaborn~=0.13.2 numpy==1.23.5"
      ]
    },
    {
      "cell_type": "markdown",
      "metadata": {
        "id": "gSOU7Nz45t0U"
      },
      "source": [
        "## Introduction"
      ]
    },
    {
      "cell_type": "markdown",
      "metadata": {
        "id": "HLAKrWzMhm7b"
      },
      "source": [
        "Illustrating the need to monitor metrics at various window sizes to catch performance degradation as soon as possible.\n",
        "\n",
        "Imagine we are logging/saving the F1 metrics every day fo 35 days. To mimic this, we will output random numbers in predefined intervals for every hour of the 35 days.\n",
        "\n",
        "- For the first 20 days we will use the interval [94, 98)\n",
        "- For the next 5 days we will use the interval [92, 96)\n",
        "- For the next 5 days we will use the interval [88, 96)\n",
        "- For the last 5 days we will use the interval [86, 92)\n",
        "\n",
        "Please note how the interval for random generating changes, this is how we mimic a drift in the data."
      ]
    },
    {
      "cell_type": "code",
      "execution_count": null,
      "metadata": {
        "id": "xdfXZs6Jg27s"
      },
      "outputs": [],
      "source": [
        "import matplotlib.pyplot as plt\n",
        "import numpy as np\n",
        "import seaborn as sns\n",
        "sns.set_theme()\n",
        "\n",
        "# Generate data\n",
        "hourly_f1 = list(np.random.randint(low=94, high=98, size=24*20)) + \\\n",
        "            list(np.random.randint(low=92, high=96, size=24*5)) + \\\n",
        "            list(np.random.randint(low=88, high=96, size=24*5)) + \\\n",
        "            list(np.random.randint(low=86, high=92, size=24*5))"
      ]
    },
    {
      "cell_type": "markdown",
      "metadata": {
        "id": "OD0s87R5ieZF"
      },
      "source": [
        "##### **TODO:** Compute the **cumulative mean** of the F1 values given in `hourly_f1`.\n",
        "\n",
        "For example for an array `[3, 1, 2, 10]` a cumulative mean array would be: `[3, 2, 2, 4]`.\n",
        "\n",
        "Explanation:\n",
        "- at iteration 0: we use the element at 0th position in original array to calculate the mean --> 3/1=3\n",
        "- at iteration 1: we use the elements at 0th and 1st position in original array to calculate the mean --> (3+1)/2=2\n",
        "- at iteration 2: we use the elements at 0th, 1st and 2nd position in original array to calculate the mean --> (3+1+2)/3=2\n",
        "- at iteration 3: we use the elements at 0th and up to 3rd position in original array to calculate the mean --> (3+1+2+10)/4=4"
      ]
    },
    {
      "cell_type": "code",
      "execution_count": 29,
      "metadata": {
        "id": "5QDpuFD0jxCj"
      },
      "outputs": [],
      "source": [
        "# Cumulative f1\n",
        "cumulative_f1 = [np.mean(hourly_f1[:n]) for n in range(1, len(hourly_f1)+1)]"
      ]
    },
    {
      "cell_type": "code",
      "execution_count": 34,
      "metadata": {},
      "outputs": [
        {
          "data": {
            "text/plain": [
              "(840, 840)"
            ]
          },
          "execution_count": 34,
          "metadata": {},
          "output_type": "execute_result"
        }
      ],
      "source": [
        "len(hourly_f1), len(cumulative_f1)"
      ]
    },
    {
      "cell_type": "markdown",
      "metadata": {
        "id": "LDLTSosEjxbX"
      },
      "source": [
        "##### **TODO:** Print the average cumulative F1 on the last day."
      ]
    },
    {
      "cell_type": "code",
      "execution_count": 30,
      "metadata": {
        "colab": {
          "base_uri": "https://localhost:8080/"
        },
        "id": "kQzxBHapi1Mo",
        "outputId": "2833e335-cba8-4d5d-c089-56db4f233a46"
      },
      "outputs": [
        {
          "data": {
            "text/plain": [
              "93.75909302869081"
            ]
          },
          "execution_count": 30,
          "metadata": {},
          "output_type": "execute_result"
        }
      ],
      "source": [
        "np.mean(cumulative_f1[-24:])"
      ]
    },
    {
      "cell_type": "markdown",
      "metadata": {
        "id": "XeI0UYVIkUfm"
      },
      "source": [
        "##### **TODO:** Calculate the **daily sliding F1** of the values given in `hourly_f1`.\n",
        "\n",
        "For example for an array [ 4,  2,  3,  8, -6, 10] a sliding average with a window of size 3 would be: [3, 4.33, 1.667, 4].\n",
        "\n",
        "Explanation:\n",
        "\n",
        "- at iteration 0: we use the first 3 elements to calculate the mean --> (4+2+3)/3=3\n",
        "- at iteration 1: we use the elements at 1st,2nd,3rd position in original array to calculate the mean --> (2+3+8)/3=4.333\n",
        "- at iteration 2: we use the elements at 2nd,3rd,4th position in original array to calculate the mean --> (3+8-6)/3=1.667\n",
        "- at iteration 3: we use the elements at 3rd,4th,5th position in original array to calculate the mean --> (8-6+10)/3=4"
      ]
    },
    {
      "cell_type": "code",
      "execution_count": 31,
      "metadata": {
        "id": "m57Q0ufEg6X2"
      },
      "outputs": [],
      "source": [
        "window_size = 24\n",
        "slides = [] # averages for every sliding window\n",
        "for i in range(0, len(hourly_f1)):\n",
        "    avg = np.mean(hourly_f1[i:i+window_size])\n",
        "    slides.append(avg)\n",
        "    if i+window_size == len(hourly_f1):\n",
        "        break"
      ]
    },
    {
      "cell_type": "markdown",
      "metadata": {
        "id": "d_vm5cNhlzHW"
      },
      "source": [
        "##### **TODO:** Print the average sliding F1 on the last day."
      ]
    },
    {
      "cell_type": "code",
      "execution_count": 32,
      "metadata": {
        "colab": {
          "base_uri": "https://localhost:8080/"
        },
        "id": "WVCRyQnMk8oA",
        "outputId": "a2503dd9-d55b-4528-be9e-e1972dedd806"
      },
      "outputs": [
        {
          "data": {
            "text/plain": [
              "88.85590277777777"
            ]
          },
          "execution_count": 32,
          "metadata": {},
          "output_type": "execute_result"
        }
      ],
      "source": [
        "np.mean(slides[-24:])"
      ]
    },
    {
      "cell_type": "markdown",
      "metadata": {
        "id": "jijkIAsjmBfN"
      },
      "source": [
        "##### **TODO:** Plot the cumulative and sliding values on a graph.\n",
        "\n",
        "- Y-axes can be limited to `[80,100]`.\n",
        "\n",
        "- Optionally, add a threshold line at `y=90`"
      ]
    },
    {
      "cell_type": "code",
      "execution_count": 33,
      "metadata": {
        "colab": {
          "base_uri": "https://localhost:8080/",
          "height": 457
        },
        "id": "drfcW7zeg7_f",
        "outputId": "731e1e05-1323-464b-b665-1aa8ef0c59ea"
      },
      "outputs": [
        {
          "data": {
            "text/plain": [
              "<matplotlib.legend.Legend at 0x345ac4e10>"
            ]
          },
          "execution_count": 33,
          "metadata": {},
          "output_type": "execute_result"
        },
        {
          "data": {
            "image/png": "[encoded data removed]",
            "text/plain": [
              "<Figure size 640x480 with 1 Axes>"
            ]
          },
          "metadata": {},
          "output_type": "display_data"
        }
      ],
      "source": [
        "plt.ylim([80, 100])\n",
        "plt.plot(cumulative_f1, label=\"cumulative\")\n",
        "plt.plot(slides, label=\"sliding\")\n",
        "plt.hlines(y=90, xmin=0, xmax=len(hourly_f1), colors=\"green\", linestyles=\"dashed\", label=\"threshold\")\n",
        "plt.legend()"
      ]
    },
    {
      "cell_type": "markdown",
      "metadata": {
        "id": "L1iEAhkt7cB8"
      },
      "source": [
        "## Data"
      ]
    },
    {
      "cell_type": "code",
      "execution_count": 8,
      "metadata": {
        "id": "AdW7fQQW7ook"
      },
      "outputs": [],
      "source": [
        "import json\n",
        "import pandas as pd\n",
        "from urllib.request import urlopen"
      ]
    },
    {
      "cell_type": "markdown",
      "metadata": {
        "id": "b0F0lsMNBItm"
      },
      "source": [
        "##### **TODO:**\n",
        "1. Read the `projects` and `tags` files and join them into a `combined` dataframe.\n",
        "2. Create a new column called `text` where you will place the `title` and `description` joined with a space character -- `{title} {description}`.\n",
        "3. Drop the `title` and `description` columns."
      ]
    },
    {
      "cell_type": "code",
      "execution_count": null,
      "metadata": {
        "id": "wYTE-iBb7rmX"
      },
      "outputs": [],
      "source": []
    },
    {
      "cell_type": "markdown",
      "metadata": {
        "id": "SZWsF6yL7sGJ"
      },
      "source": [
        "We will use this dataframe as our reference/original data, data that we used to train our ML models. Not to be mistaken with the \"real-world\" data received in prod"
      ]
    },
    {
      "cell_type": "markdown",
      "metadata": {
        "id": "jn82uSpS--wY"
      },
      "source": [
        "## Univariate"
      ]
    },
    {
      "cell_type": "markdown",
      "metadata": {
        "id": "fVI0PK4n_H1o"
      },
      "source": [
        "Drift detection on univariate data.\n"
      ]
    },
    {
      "cell_type": "markdown",
      "metadata": {
        "id": "27G3wVNE_C3W"
      },
      "source": [
        "### Kolmogorov-Smirnov (KS) test\n",
        "\n",
        "KS test for detecting data drift on input sequence length. We can even monitor aspects of our data that aren't necessarily inputs to the model (ex. length of input text)."
      ]
    },
    {
      "cell_type": "code",
      "execution_count": null,
      "metadata": {
        "id": "tri-kqYE_Wwx"
      },
      "outputs": [],
      "source": [
        "!pip install alibi_detect --upgrade\n",
        "!pip install pyOpenSSL==22.0.0"
      ]
    },
    {
      "cell_type": "code",
      "execution_count": 11,
      "metadata": {
        "id": "7GcIfnfe-rZY"
      },
      "outputs": [],
      "source": [
        "from alibi_detect.cd import KSDrift"
      ]
    },
    {
      "cell_type": "markdown",
      "metadata": {
        "id": "C6Ibi7oeDA_E"
      },
      "source": [
        "##### **TODO**:\n",
        "1. Create a new column that will hold the number of words (e.g., separated by \" \") in the `text` column\n",
        "2. Plot a histogram for the first 200 rows of the newly created column from original dataframe"
      ]
    },
    {
      "cell_type": "code",
      "execution_count": null,
      "metadata": {},
      "outputs": [],
      "source": []
    },
    {
      "cell_type": "markdown",
      "metadata": {
        "id": "dNSjA6mAD6Yy"
      },
      "source": [
        "##### **TODO:** Initialize the KSDrift detector on the reference data."
      ]
    },
    {
      "cell_type": "code",
      "execution_count": null,
      "metadata": {
        "id": "0ak5tOjV_OMC"
      },
      "outputs": [],
      "source": []
    },
    {
      "cell_type": "markdown",
      "metadata": {
        "id": "hXqXMKLoD_0q"
      },
      "source": [
        "##### **TODO:**\n",
        "1. Plot a histogram for the first 200 rows from original dataframe (same as previous task).\n",
        "2. On top of it, plot a histogram for the next 200 rows (i.e., `[200,400)`) from original dataframe"
      ]
    },
    {
      "cell_type": "code",
      "execution_count": null,
      "metadata": {
        "colab": {
          "base_uri": "https://localhost:8080/",
          "height": 434
        },
        "id": "T9EEk0rD_RZe",
        "outputId": "eef8c1a7-478e-4ccf-86b4-5a65f537f01f"
      },
      "outputs": [],
      "source": []
    },
    {
      "cell_type": "markdown",
      "metadata": {
        "id": "yJMnK1FeEUgs"
      },
      "source": [
        "##### **TODO:** Apply the drift detector."
      ]
    },
    {
      "cell_type": "code",
      "execution_count": null,
      "metadata": {
        "colab": {
          "base_uri": "https://localhost:8080/"
        },
        "id": "QkwtDBUmAZHb",
        "outputId": "267c9840-64b5-455c-cb47-e78b50ddedcf"
      },
      "outputs": [],
      "source": []
    },
    {
      "cell_type": "markdown",
      "metadata": {
        "id": "as7iseE1EZyE"
      },
      "source": [
        "Given that both dataframes are actually part of the same data, there is no noticeble drift to be detected."
      ]
    },
    {
      "cell_type": "markdown",
      "metadata": {
        "id": "ta_LwhgEEgQz"
      },
      "source": [
        "##### **TODO:**\n",
        "1. Create new data (to represent production data) from a normal distribution with mean=30 and std=5; you can create 200 examples.\n",
        "2. Plot a hist of this data on top of the hist of the reference data (first 200 rows)."
      ]
    },
    {
      "cell_type": "code",
      "execution_count": null,
      "metadata": {
        "colab": {
          "base_uri": "https://localhost:8080/",
          "height": 434
        },
        "id": "9LyF6UstAbUl",
        "outputId": "2809ecb2-b55e-4e4f-c6f2-bc54bb97fec2"
      },
      "outputs": [],
      "source": []
    },
    {
      "cell_type": "code",
      "execution_count": null,
      "metadata": {},
      "outputs": [],
      "source": []
    },
    {
      "cell_type": "markdown",
      "metadata": {
        "id": "lF2LDjN6E3mO"
      },
      "source": [
        "##### **TODO:** Apply the drift detector to the reference data and the normal distributed (production) data."
      ]
    },
    {
      "cell_type": "code",
      "execution_count": null,
      "metadata": {
        "colab": {
          "base_uri": "https://localhost:8080/"
        },
        "id": "PhDtUZtGAcsW",
        "outputId": "e551dec2-5478-40a3-fc19-d3e0992a33de"
      },
      "outputs": [],
      "source": []
    },
    {
      "cell_type": "markdown",
      "metadata": {
        "id": "4GE3dgg0FNBG"
      },
      "source": [
        "### Chi-squared test"
      ]
    },
    {
      "cell_type": "markdown",
      "metadata": {
        "id": "xZZikeOzFPNK"
      },
      "source": [
        "Detecting drift on categorical variables (can be used for data or target drift).\n"
      ]
    },
    {
      "cell_type": "code",
      "execution_count": null,
      "metadata": {
        "id": "29e5HCcuFJhJ"
      },
      "outputs": [],
      "source": [
        "from alibi_detect.cd import ChiSquareDrift"
      ]
    },
    {
      "cell_type": "markdown",
      "metadata": {
        "id": "uGb2lJ6YFWs_"
      },
      "source": [
        "##### **TODO:**\n",
        "1. Add a new column to the reference data called `token_count`. This column should have the value `small` if the `num_tokens` is less or equal than 10; `medium` if in between (10,25] and `large` if larger than 25.\n",
        "2. Plot the first 200 data of reference data as a histogram."
      ]
    },
    {
      "cell_type": "code",
      "execution_count": null,
      "metadata": {
        "colab": {
          "base_uri": "https://localhost:8080/",
          "height": 506
        },
        "id": "pvn_U1wzFMGy",
        "outputId": "2acfc39b-c68f-467b-d0ca-ac408cd1063e"
      },
      "outputs": [],
      "source": []
    },
    {
      "cell_type": "markdown",
      "metadata": {
        "id": "R-DcxbryF8Q1"
      },
      "source": [
        "##### **TODO:** Initialize the drift detector"
      ]
    },
    {
      "cell_type": "code",
      "execution_count": null,
      "metadata": {
        "id": "ZmB_8EnWFTI9"
      },
      "outputs": [],
      "source": []
    },
    {
      "cell_type": "markdown",
      "metadata": {
        "id": "HOXWAr92GAPR"
      },
      "source": [
        "##### **TODO:**\n",
        "1. Take the next 200 data rows from original data, and plot it over the reference data (first 200 rows).\n",
        "2. Apply the drift detector."
      ]
    },
    {
      "cell_type": "code",
      "execution_count": null,
      "metadata": {
        "colab": {
          "base_uri": "https://localhost:8080/",
          "height": 434
        },
        "id": "yVV_HJTgF-Z7",
        "outputId": "74eb1a49-36fa-4ed5-9f1f-45dd025a7cec"
      },
      "outputs": [],
      "source": []
    },
    {
      "cell_type": "code",
      "execution_count": null,
      "metadata": {
        "colab": {
          "base_uri": "https://localhost:8080/"
        },
        "id": "oJAhPsNSGHve",
        "outputId": "cc331c55-01ef-4f5a-c923-14cbc83102be"
      },
      "outputs": [],
      "source": []
    },
    {
      "cell_type": "markdown",
      "metadata": {
        "id": "F_9dGbQUGN8d"
      },
      "source": [
        "##### **TODO:**\n",
        "1. Create production data, where you have 80 times `small`, 40 times `medium` and 80 times `large`.\n",
        "2. Plot the histogram of productions data on top of reference data (first 200 rows).\n",
        "3. Apply drift detector."
      ]
    },
    {
      "cell_type": "code",
      "execution_count": null,
      "metadata": {
        "colab": {
          "base_uri": "https://localhost:8080/",
          "height": 434
        },
        "id": "G6Xp-0y-GJRA",
        "outputId": "37b255d5-b9d8-40ce-b93a-35de673c7bd0"
      },
      "outputs": [],
      "source": []
    },
    {
      "cell_type": "code",
      "execution_count": null,
      "metadata": {
        "colab": {
          "base_uri": "https://localhost:8080/"
        },
        "id": "o1TXogpEGb3U",
        "outputId": "57f1f170-58df-471d-e2aa-14595ea92d8b"
      },
      "outputs": [],
      "source": []
    }
  ],
  "metadata": {
    "colab": {
      "provenance": []
    },
    "kernelspec": {
      "display_name": "base",
      "language": "python",
      "name": "python3"
    },
    "language_info": {
      "codemirror_mode": {
        "name": "ipython",
        "version": 3
      },
      "file_extension": ".py",
      "mimetype": "text/x-python",
      "name": "python",
      "nbconvert_exporter": "python",
      "pygments_lexer": "ipython3",
      "version": "3.11.5"
    }
  },
  "nbformat": 4,
  "nbformat_minor": 0
}
